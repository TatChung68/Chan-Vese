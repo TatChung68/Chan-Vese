{
 "cells": [
  {
   "cell_type": "code",
   "execution_count": 2,
   "metadata": {},
   "outputs": [],
   "source": [
    "import numpy as np\n",
    "import scipy.ndimage as nd\n",
    "import matplotlib.pyplot as plt\n"
   ]
  },
  {
   "cell_type": "code",
   "execution_count": 3,
   "metadata": {},
   "outputs": [],
   "source": [
    "#Limits for Floating point\n",
    "eps = np.finfo(float).eps"
   ]
  },
  {
   "cell_type": "code",
   "execution_count": 44,
   "metadata": {},
   "outputs": [
    {
     "name": "stdout",
     "output_type": "stream",
     "text": [
      "(256, 256)\n"
     ]
    }
   ],
   "source": [
    "#Load image\n",
    "img = plt.imread('rice.png')\n",
    "mask = np.zeros(img.shape)\n",
    "print(img.shape)\n",
    "mask[20:100, 20:100] = 1\n",
    "img = img.astype(np.float) #convert to np.float"
   ]
  },
  {
   "cell_type": "code",
   "execution_count": 11,
   "metadata": {},
   "outputs": [
    {
     "name": "stdout",
     "output_type": "stream",
     "text": [
      "[[ 0.5        -0.5        -0.91421356 -1.73606798 -2.5       ]\n",
      " [ 0.91421356  0.5        -0.5        -1.5        -1.5       ]\n",
      " [ 0.5        -0.5        -0.91421356 -0.91421356 -0.5       ]\n",
      " [ 0.5        -0.5        -0.91421356 -0.5         0.5       ]\n",
      " [ 0.5        -0.5        -0.5         0.5         0.91421356]]\n"
     ]
    }
   ],
   "source": [
    "# Create a signed distance from mask\n",
    "def bwdist(a):\n",
    "    \"\"\"\n",
    "    Exact Euclidean distance transform.\n",
    "    Input: a is an array \n",
    "    \"\"\"\n",
    "    return nd.distance_transform_edt(a == 0)\n",
    "a = np.array(([0,1,1,1,1],\n",
    "              [0,0,1,1,1],\n",
    "              [0,1,1,1,1],\n",
    "              [0,1,1,1,0],\n",
    "              [0,1,1,0,0]))\n",
    "#print(bwdist(a))\n",
    "def im2double(a):\n",
    "    '''\n",
    "    Input: a is an array\n",
    "    Output: return an array that has elements in [0,1]\n",
    "    '''\n",
    "    a = a.astype(np.float)\n",
    "    a /= np.abs(a).max()\n",
    "    return a\n",
    "def mask2phi(init_a):\n",
    "    phi = bwdist(init_a) - bwdist(1 - init_a) + im2double(init_a) - 0.5\n",
    "    return phi\n",
    "print(mask2phi(a))"
   ]
  },
  {
   "cell_type": "code",
   "execution_count": 31,
   "metadata": {},
   "outputs": [
    {
     "name": "stdout",
     "output_type": "stream",
     "text": [
      "(1920,)\n",
      "(132, 132, 3)\n"
     ]
    }
   ],
   "source": [
    "phi = mask2phi(mask)\n",
    "#Gets indices of Phi's elements in [-1.2; 1.2]\n",
    "idx = np.flatnonzero(np.logical_and(phi <= 1.2, phi >= -1.2))\n",
    "print(idx.shape)\n",
    "print(phi.shape)"
   ]
  },
  {
   "cell_type": "code",
   "execution_count": 43,
   "metadata": {},
   "outputs": [
    {
     "name": "stdout",
     "output_type": "stream",
     "text": [
      "132\n"
     ]
    }
   ],
   "source": [
    "    dimy, dimx, _ = phi.shape\n",
    "    yx = np.array([np.unravel_index(i, phi.shape) for i in idx])  # subscripts\n",
    "    y = yx[:, 0]\n",
    "    x = yx[:, 1]\n",
    "    print(dimy)"
   ]
  },
  {
   "cell_type": "code",
   "execution_count": 42,
   "metadata": {},
   "outputs": [
    {
     "data": {
      "text/plain": [
       "array([[0.11764706, 0.10980392, 0.09803922, ..., 0.19215687, 0.2       ,\n",
       "        0.19215687],\n",
       "       [0.12156863, 0.11372549, 0.10588235, ..., 0.19215687, 0.1882353 ,\n",
       "        0.16862746],\n",
       "       [0.12941177, 0.12156863, 0.11372549, ..., 0.20392157, 0.2       ,\n",
       "        0.19215687],\n",
       "       ...,\n",
       "       [0.17647059, 0.16470589, 0.14901961, ..., 0.03529412, 0.03137255,\n",
       "        0.02352941],\n",
       "       [0.16470589, 0.15686275, 0.14901961, ..., 0.04313726, 0.03137255,\n",
       "        0.01960784],\n",
       "       [0.15686275, 0.15294118, 0.14509805, ..., 0.0627451 , 0.04313726,\n",
       "        0.02745098]])"
      ]
     },
     "execution_count": 42,
     "metadata": {},
     "output_type": "execute_result"
    }
   ],
   "source": [
    "img_channel0 = img[:,:,0]\n",
    "img_channel1 = img[:,:,1]\n",
    "img_channel2 = img[:,:,2]\n",
    "import matplotlib\n",
    "img_channel1 = img[:,:,1]\n",
    "img_channel1"
   ]
  },
  {
   "cell_type": "code",
   "execution_count": 41,
   "metadata": {},
   "outputs": [
    {
     "data": {
      "text/plain": [
       "array([[0.11764706, 0.10980392, 0.09803922, ..., 0.19215687, 0.2       ,\n",
       "        0.19215687],\n",
       "       [0.12156863, 0.11372549, 0.10588235, ..., 0.19215687, 0.1882353 ,\n",
       "        0.16862746],\n",
       "       [0.12941177, 0.12156863, 0.11372549, ..., 0.20392157, 0.2       ,\n",
       "        0.19215687],\n",
       "       ...,\n",
       "       [0.17647059, 0.16470589, 0.14901961, ..., 0.03529412, 0.03137255,\n",
       "        0.02352941],\n",
       "       [0.16470589, 0.15686275, 0.14901961, ..., 0.04313726, 0.03137255,\n",
       "        0.01960784],\n",
       "       [0.15686275, 0.15294118, 0.14509805, ..., 0.0627451 , 0.04313726,\n",
       "        0.02745098]])"
      ]
     },
     "execution_count": 41,
     "metadata": {},
     "output_type": "execute_result"
    }
   ],
   "source": [
    "img_channel2"
   ]
  },
  {
   "cell_type": "code",
   "execution_count": null,
   "metadata": {},
   "outputs": [],
   "source": []
  }
 ],
 "metadata": {
  "kernelspec": {
   "display_name": "Python 3",
   "language": "python",
   "name": "python3"
  },
  "language_info": {
   "codemirror_mode": {
    "name": "ipython",
    "version": 3
   },
   "file_extension": ".py",
   "mimetype": "text/x-python",
   "name": "python",
   "nbconvert_exporter": "python",
   "pygments_lexer": "ipython3",
   "version": "3.8.5"
  }
 },
 "nbformat": 4,
 "nbformat_minor": 4
}
