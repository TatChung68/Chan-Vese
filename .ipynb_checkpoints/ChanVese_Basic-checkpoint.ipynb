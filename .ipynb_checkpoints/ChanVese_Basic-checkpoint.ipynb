{
 "cells": [
  {
   "cell_type": "code",
   "execution_count": 2,
   "metadata": {},
   "outputs": [],
   "source": [
    "import numpy as np\n",
    "import scipy.ndimage as nd\n",
    "import matplotlib.pyplot as plt\n"
   ]
  },
  {
   "cell_type": "code",
   "execution_count": 3,
   "metadata": {},
   "outputs": [],
   "source": [
    "#Limits for Floating point\n",
    "eps = np.finfo(float).eps"
   ]
  },
  {
   "cell_type": "code",
   "execution_count": 10,
   "metadata": {},
   "outputs": [
    {
     "name": "stdout",
     "output_type": "stream",
     "text": [
      "(132, 132, 3)\n"
     ]
    }
   ],
   "source": [
    "#Load image\n",
    "img = plt.imread('brain.png')\n",
    "mask = np.zeros(img.shape)\n",
    "print(img.shape)\n",
    "mask[20:100, 20:100] = 1\n",
    "img = img.astype(np.float) #convert to np.float"
   ]
  },
  {
   "cell_type": "code",
   "execution_count": 11,
   "metadata": {},
   "outputs": [
    {
     "name": "stdout",
     "output_type": "stream",
     "text": [
      "[[ 0.5        -0.5        -0.91421356 -1.73606798 -2.5       ]\n",
      " [ 0.91421356  0.5        -0.5        -1.5        -1.5       ]\n",
      " [ 0.5        -0.5        -0.91421356 -0.91421356 -0.5       ]\n",
      " [ 0.5        -0.5        -0.91421356 -0.5         0.5       ]\n",
      " [ 0.5        -0.5        -0.5         0.5         0.91421356]]\n"
     ]
    }
   ],
   "source": [
    "# Create a signed distance from mask\n",
    "def bwdist(a):\n",
    "    \"\"\"\n",
    "    Exact Euclidean distance transform.\n",
    "    Input: a is an array \n",
    "    \"\"\"\n",
    "    return nd.distance_transform_edt(a == 0)\n",
    "a = np.array(([0,1,1,1,1],\n",
    "              [0,0,1,1,1],\n",
    "              [0,1,1,1,1],\n",
    "              [0,1,1,1,0],\n",
    "              [0,1,1,0,0]))\n",
    "#print(bwdist(a))\n",
    "def im2double(a):\n",
    "    '''\n",
    "    Input: a is an array\n",
    "    Output: return an array that has elements in [0,1]\n",
    "    '''\n",
    "    a = a.astype(np.float)\n",
    "    a /= np.abs(a).max()\n",
    "    return a\n",
    "def mask2phi(init_a):\n",
    "    phi = bwdist(init_a) - bwdist(1 - init_a) + im2double(init_a) - 0.5\n",
    "    return phi\n",
    "print(mask2phi(a))"
   ]
  },
  {
   "cell_type": "code",
   "execution_count": 31,
   "metadata": {},
   "outputs": [
    {
     "name": "stdout",
     "output_type": "stream",
     "text": [
      "(1920,)\n",
      "(132, 132, 3)\n"
     ]
    }
   ],
   "source": [
    "phi = mask2phi(mask)\n",
    "#Gets indices of Phi's elements in [-1.2; 1.2]\n",
    "idx = np.flatnonzero(np.logical_and(phi <= 1.2, phi >= -1.2))\n",
    "print(idx.shape)\n",
    "print(phi.shape)"
   ]
  },
  {
   "cell_type": "code",
   "execution_count": 30,
   "metadata": {},
   "outputs": [
    {
     "ename": "ValueError",
     "evalue": "too many values to unpack (expected 2)",
     "output_type": "error",
     "traceback": [
      "\u001b[1;31m---------------------------------------------------------------------------\u001b[0m",
      "\u001b[1;31mValueError\u001b[0m                                Traceback (most recent call last)",
      "\u001b[1;32m<ipython-input-30-05dfc1f8ef02>\u001b[0m in \u001b[0;36m<module>\u001b[1;34m\u001b[0m\n\u001b[1;32m----> 1\u001b[1;33m \u001b[0mdimy\u001b[0m\u001b[1;33m,\u001b[0m \u001b[0mdimx\u001b[0m \u001b[1;33m=\u001b[0m \u001b[0mphi\u001b[0m\u001b[1;33m.\u001b[0m\u001b[0mshape\u001b[0m\u001b[1;33m\u001b[0m\u001b[1;33m\u001b[0m\u001b[0m\n\u001b[0m\u001b[0;32m      2\u001b[0m \u001b[0myx\u001b[0m \u001b[1;33m=\u001b[0m \u001b[0mnp\u001b[0m\u001b[1;33m.\u001b[0m\u001b[0marray\u001b[0m\u001b[1;33m(\u001b[0m\u001b[1;33m[\u001b[0m\u001b[0mnp\u001b[0m\u001b[1;33m.\u001b[0m\u001b[0munravel_index\u001b[0m\u001b[1;33m(\u001b[0m\u001b[0mi\u001b[0m\u001b[1;33m,\u001b[0m \u001b[0mphi\u001b[0m\u001b[1;33m.\u001b[0m\u001b[0mshape\u001b[0m\u001b[1;33m)\u001b[0m \u001b[1;32mfor\u001b[0m \u001b[0mi\u001b[0m \u001b[1;32min\u001b[0m \u001b[0midx\u001b[0m\u001b[1;33m]\u001b[0m\u001b[1;33m)\u001b[0m  \u001b[1;31m# subscripts\u001b[0m\u001b[1;33m\u001b[0m\u001b[1;33m\u001b[0m\u001b[0m\n\u001b[0;32m      3\u001b[0m \u001b[0my\u001b[0m \u001b[1;33m=\u001b[0m \u001b[0myx\u001b[0m\u001b[1;33m[\u001b[0m\u001b[1;33m:\u001b[0m\u001b[1;33m,\u001b[0m \u001b[1;36m0\u001b[0m\u001b[1;33m]\u001b[0m\u001b[1;33m\u001b[0m\u001b[1;33m\u001b[0m\u001b[0m\n\u001b[0;32m      4\u001b[0m \u001b[0mx\u001b[0m \u001b[1;33m=\u001b[0m \u001b[0myx\u001b[0m\u001b[1;33m[\u001b[0m\u001b[1;33m:\u001b[0m\u001b[1;33m,\u001b[0m \u001b[1;36m1\u001b[0m\u001b[1;33m]\u001b[0m\u001b[1;33m\u001b[0m\u001b[1;33m\u001b[0m\u001b[0m\n\u001b[0;32m      5\u001b[0m \u001b[0mprint\u001b[0m\u001b[1;33m(\u001b[0m\u001b[0mdimy\u001b[0m\u001b[1;33m)\u001b[0m\u001b[1;33m\u001b[0m\u001b[1;33m\u001b[0m\u001b[0m\n",
      "\u001b[1;31mValueError\u001b[0m: too many values to unpack (expected 2)"
     ]
    }
   ],
   "source": [
    "    dimy, dimx = phi.shape\n",
    "    yx = np.array([np.unravel_index(i, phi.shape) for i in idx])  # subscripts\n",
    "    y = yx[:, 0]\n",
    "    x = yx[:, 1]\n",
    "    print(dimy)"
   ]
  },
  {
   "cell_type": "code",
   "execution_count": 38,
   "metadata": {},
   "outputs": [],
   "source": [
    "img_channel0 = img[:,:,0]\n",
    "img_channel1 = img[:,:,1]\n",
    "img_channel2 = img[:,:,2]\n",
    "import matplotlib\n",
    "matplotlib.image.imsave('img_channel0.png', img_channel0)\n",
    "matplotlib.image.imsave('img_channel1.png', img_channel1)\n",
    "matplotlib.image.imsave('img_channel2.png', img_channel2)"
   ]
  },
  {
   "cell_type": "code",
   "execution_count": null,
   "metadata": {},
   "outputs": [],
   "source": []
  }
 ],
 "metadata": {
  "kernelspec": {
   "display_name": "Python 3",
   "language": "python",
   "name": "python3"
  },
  "language_info": {
   "codemirror_mode": {
    "name": "ipython",
    "version": 3
   },
   "file_extension": ".py",
   "mimetype": "text/x-python",
   "name": "python",
   "nbconvert_exporter": "python",
   "pygments_lexer": "ipython3",
   "version": "3.8.5"
  }
 },
 "nbformat": 4,
 "nbformat_minor": 4
}
